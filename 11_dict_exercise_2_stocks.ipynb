{
 "cells": [
  {
   "cell_type": "markdown",
   "metadata": {},
   "source": [
    "2. You are given following list of stocks and their prices in last 3 days,\n",
    "\n",
    "Stock\tPrices\n",
    "info\t[600,630,620]\n",
    "ril\t[1430,1490,1567]\n",
    "mtl\t[234,180,160]\n",
    "Write a program that asks user for operation. Value of operations could be,\n",
    "print: When user enters print it should print following,\n",
    "info ==> [600, 630, 620] ==> avg:  616.67\n",
    "ril ==> [1430, 1490, 1567] ==> avg:  1495.67\n",
    "mtl ==> [234, 180, 160] ==> avg:  191.33\n",
    "add: When user enters 'add', it asks for stock ticker and price. If stock already exist in your list (like info, ril etc) then it will append the price to the list. Otherwise it will create new entry in your dictionary. For example entering 'tata' and 560 will add tata ==> [560] to the dictionary of stocks."
   ]
  },
  {
   "cell_type": "code",
   "execution_count": 9,
   "metadata": {},
   "outputs": [],
   "source": [
    "stocks={\n",
    "    \"info\":[600,630,620],\n",
    "    \"ril\":[1430,1490,1567],\n",
    "    \"mtl\":[234,180,160]\n",
    "}"
   ]
  },
  {
   "cell_type": "code",
   "execution_count": 8,
   "metadata": {},
   "outputs": [
    {
     "name": "stdout",
     "output_type": "stream",
     "text": [
      "{'info': [600, 630, 620, 3], 'ril': [1430, 1490, 1567], 'mtl': [234, 180, 160], 'tata': [3]}\n"
     ]
    }
   ],
   "source": [
    "op = input(\"Enter the operation:\")\n",
    "if op==\"print\":\n",
    "    for key in stocks:\n",
    "        print(f\"{key} ==> {stocks[key]} ==> avg:{(stocks[key][0]+stocks[key][1]+stocks[key][2])/3}\")\n",
    "elif op==\"add\":\n",
    "    st=input(\"Enter stock ticker:\")\n",
    "    pr=int(input(\"Enter stock price:\"))\n",
    "    if st in stocks:\n",
    "        stocks[st].append(pr)\n",
    "        print(stocks)\n",
    "    else:\n",
    "        stocks[st]=[pr]\n",
    "        print(stocks)"
   ]
  },
  {
   "cell_type": "markdown",
   "metadata": {},
   "source": [
    "import statistics\n",
    "avg = statistics.mean(price_list)\n",
    "round(avg,2)\n",
    "if op.lower() == 'print':"
   ]
  }
 ],
 "metadata": {
  "kernelspec": {
   "display_name": "Python 3",
   "language": "python",
   "name": "python3"
  },
  "language_info": {
   "codemirror_mode": {
    "name": "ipython",
    "version": 3
   },
   "file_extension": ".py",
   "mimetype": "text/x-python",
   "name": "python",
   "nbconvert_exporter": "python",
   "pygments_lexer": "ipython3",
   "version": "3.11.3"
  }
 },
 "nbformat": 4,
 "nbformat_minor": 2
}
