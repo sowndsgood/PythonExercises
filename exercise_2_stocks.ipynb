{
 "cells": [
  {
   "cell_type": "markdown",
   "metadata": {},
   "source": [
    "2. stocks.csv contains stock price, earnings per share and book value. You are writing a stock market application that will process this file and create a new file with financial metrics such as pe ratio and price to book ratio. These are calculated as,\n",
    "pe ratio = price / earnings per share\n",
    "price to book ratio = price / book value\n",
    "Your input format (stocks.csv) is,\n",
    "\n",
    "Company Name\tPrice\tEarnings Per Share\tBook Value\n",
    "Reliance\t1467\t66\t653\n",
    "Tata Steel\t391\t89\t572\n",
    "Output.csv should look like this,\n",
    "\n",
    "Company Name\tPE Ratio\tPB Ratio\n",
    "Reliance\t22.23\t2.25\n",
    "Tata Steel\t4.39\t0.68"
   ]
  },
  {
   "cell_type": "code",
   "execution_count": 8,
   "metadata": {},
   "outputs": [],
   "source": [
    "with open(\"stocks.csv\",\"r\") as f, open(\"output.csv\",\"w+\") as out:\n",
    "    next(f) #Skips first line \n",
    "    for line in f:\n",
    "        tokens=line.split(',')\n",
    "        name=tokens[0]\n",
    "        price=int(tokens[1])\n",
    "        eps=int(tokens[2])\n",
    "        bk=int(tokens[3])\n",
    "        #Output\n",
    "        pe=round(price/eps,2)\n",
    "        pb=round(price/bk,2)\n",
    "        out.write(f\"{name},{pe},{pb}\\n\")"
   ]
  }
 ],
 "metadata": {
  "kernelspec": {
   "display_name": "Python 3",
   "language": "python",
   "name": "python3"
  },
  "language_info": {
   "codemirror_mode": {
    "name": "ipython",
    "version": 3
   },
   "file_extension": ".py",
   "mimetype": "text/x-python",
   "name": "python",
   "nbconvert_exporter": "python",
   "pygments_lexer": "ipython3",
   "version": "3.11.3"
  }
 },
 "nbformat": 4,
 "nbformat_minor": 2
}
