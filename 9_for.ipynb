{
 "cells": [
  {
   "cell_type": "markdown",
   "metadata": {},
   "source": [
    "# Exercise: Python for loop\n",
    "\n",
    "1. After flipping a coin 10 times you got this result,\n",
    "result = [\"heads\",\"tails\",\"tails\",\"heads\",\"tails\",\"heads\",\"heads\",\"tails\",\"tails\",\"tails\"]\n",
    "Using for loop figure out how many times you got heads"
   ]
  },
  {
   "cell_type": "code",
   "execution_count": null,
   "metadata": {},
   "outputs": [
    {
     "data": {
      "text/plain": [
       "4"
      ]
     },
     "execution_count": 1,
     "metadata": {},
     "output_type": "execute_result"
    }
   ],
   "source": [
    "result = [\"heads\",\"tails\",\"tails\",\"heads\",\"tails\",\"heads\",\"heads\",\"tails\",\"tails\",\"tails\"]\n",
    "count=0;\n",
    "for i in result:\n",
    "    if i == \"heads\":\n",
    "        count = count+1\n",
    "count"
   ]
  },
  {
   "cell_type": "markdown",
   "metadata": {},
   "source": [
    "2. Print square of all numbers between 1 to 10 except even numbers"
   ]
  },
  {
   "cell_type": "code",
   "execution_count": 2,
   "metadata": {},
   "outputs": [
    {
     "name": "stdout",
     "output_type": "stream",
     "text": [
      "1\n",
      "9\n",
      "25\n",
      "49\n",
      "81\n"
     ]
    }
   ],
   "source": [
    "for i in range(1,11):\n",
    "    if i%2!=0:\n",
    "        print(i*i)"
   ]
  },
  {
   "cell_type": "markdown",
   "metadata": {},
   "source": [
    "3. Your monthly expense list (from Jan to May) looks like this,\n",
    "expense_list = [2340, 2500, 2100, 3100, 2980]\n",
    "Write a program that asks you to enter an expense amount and program should tell you in which month that expense occurred. If expense is not found then it should print that as well."
   ]
  },
  {
   "cell_type": "code",
   "execution_count": 4,
   "metadata": {},
   "outputs": [
    {
     "name": "stdout",
     "output_type": "stream",
     "text": [
      "The month is mar\n"
     ]
    }
   ],
   "source": [
    "expense_list = [2340, 2500, 2100, 3100, 2980]\n",
    "month = [\"jan\",\"feb\",\"mar\",\"apr\",\"may\"]\n",
    "amount = int(input(\"Enter the amount:\"))\n",
    "index=-1\n",
    "for i in range(len(month)):\n",
    "    if amount == expense_list[i]:\n",
    "        index=i\n",
    "        break\n",
    "\n",
    "if index == -1:\n",
    "    print(\"You have not spend that money\")\n",
    "else:\n",
    "    print(\"The month is\", month[index])"
   ]
  },
  {
   "cell_type": "markdown",
   "metadata": {},
   "source": [
    "4. Lets say you are running a 5 km race. Write a program that,\n",
    "\n",
    "Upon completing each 1 km asks you \"are you tired?\"\n",
    "If you reply \"yes\" then it should break and print \"you didn't finish the race\"\n",
    "If you reply \"no\" then it should continue and ask \"are you tired\" on every km\n",
    "If you finish all 5 km then it should print congratulations message"
   ]
  },
  {
   "cell_type": "code",
   "execution_count": 11,
   "metadata": {},
   "outputs": [
    {
     "name": "stdout",
     "output_type": "stream",
     "text": [
      "You did't finish the race. You have Completed: 2 kms\n"
     ]
    }
   ],
   "source": [
    "race = 0\n",
    "for i in range(5):\n",
    "    reply = input(\"Are you tired?\")\n",
    "    if reply == \"yes\":\n",
    "        break\n",
    "    else:\n",
    "        race = race +1\n",
    "        continue\n",
    "\n",
    "if race !=5:\n",
    "    print(f\"You did't finish the race. You have Completed: {race} kms\")\n",
    "else:\n",
    "    print(\"Congratulations\")"
   ]
  },
  {
   "cell_type": "markdown",
   "metadata": {},
   "source": [
    "5. Write a program that prints following shape\n",
    "\n",
    "*\n",
    "**\n",
    "***\n",
    "****\n",
    "*****"
   ]
  },
  {
   "cell_type": "code",
   "execution_count": 11,
   "metadata": {},
   "outputs": [
    {
     "name": "stdout",
     "output_type": "stream",
     "text": [
      "*\n",
      "**\n",
      "***\n",
      "****\n",
      "*****\n"
     ]
    }
   ],
   "source": [
    "char = '*'\n",
    "for i in range(5):\n",
    "    print(char)\n",
    "    char = char + '*'\n",
    "\n"
   ]
  }
 ],
 "metadata": {
  "kernelspec": {
   "display_name": "Python 3",
   "language": "python",
   "name": "python3"
  },
  "language_info": {
   "codemirror_mode": {
    "name": "ipython",
    "version": 3
   },
   "file_extension": ".py",
   "mimetype": "text/x-python",
   "name": "python",
   "nbconvert_exporter": "python",
   "pygments_lexer": "ipython3",
   "version": "3.11.3"
  }
 },
 "nbformat": 4,
 "nbformat_minor": 2
}
