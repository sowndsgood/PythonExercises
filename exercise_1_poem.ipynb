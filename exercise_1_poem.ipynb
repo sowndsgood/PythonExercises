{
 "cells": [
  {
   "cell_type": "markdown",
   "metadata": {},
   "source": [
    "# Exercise: Python Read Write File\n",
    "poem.txt contains famous poem \"Road not taken\" by poet Robert Frost. You have to read this file in your python program and find out words with maximum occurance."
   ]
  },
  {
   "cell_type": "code",
   "execution_count": 14,
   "metadata": {},
   "outputs": [
    {
     "ename": "TypeError",
     "evalue": "'int' object is not callable",
     "output_type": "error",
     "traceback": [
      "\u001b[1;31m---------------------------------------------------------------------------\u001b[0m",
      "\u001b[1;31mTypeError\u001b[0m                                 Traceback (most recent call last)",
      "Cell \u001b[1;32mIn[14], line 15\u001b[0m\n\u001b[0;32m     10\u001b[0m                 word_stats[word]\u001b[38;5;241m=\u001b[39m\u001b[38;5;241m1\u001b[39m\n\u001b[0;32m     14\u001b[0m word_occ \u001b[38;5;241m=\u001b[39m \u001b[38;5;28mlist\u001b[39m(word_stats\u001b[38;5;241m.\u001b[39mvalues())\n\u001b[1;32m---> 15\u001b[0m maximum_occ\u001b[38;5;241m=\u001b[39m\u001b[38;5;28;43mmax\u001b[39;49m\u001b[43m(\u001b[49m\u001b[43mword_occ\u001b[49m\u001b[43m)\u001b[49m\n\u001b[0;32m     17\u001b[0m \u001b[38;5;28;01mfor\u001b[39;00m word,count  \u001b[38;5;129;01min\u001b[39;00m word_stats\u001b[38;5;241m.\u001b[39mitems():\n\u001b[0;32m     18\u001b[0m     \u001b[38;5;28;01mif\u001b[39;00m count \u001b[38;5;241m==\u001b[39m maximum_occ:\n",
      "\u001b[1;31mTypeError\u001b[0m: 'int' object is not callable"
     ]
    }
   ],
   "source": [
    "word_stats={}\n",
    "\n",
    "with open(\"poem.txt\",\"r\") as f:\n",
    "    for line in f:\n",
    "        words=line.split(' ')\n",
    "        for word in words:\n",
    "            if word in word_stats:\n",
    "                word_stats[word]+=1\n",
    "            else:\n",
    "                word_stats[word]=1\n",
    "\n",
    "\n",
    "\n",
    "word_occ = list(word_stats.values())\n",
    "maximum_occ=max(word_occ)\n",
    "\n",
    "for word,count  in word_stats.items():\n",
    "    if count == maximum_occ:\n",
    "        print(word)\n"
   ]
  }
 ],
 "metadata": {
  "kernelspec": {
   "display_name": "Python 3",
   "language": "python",
   "name": "python3"
  },
  "language_info": {
   "codemirror_mode": {
    "name": "ipython",
    "version": 3
   },
   "file_extension": ".py",
   "mimetype": "text/x-python",
   "name": "python",
   "nbconvert_exporter": "python",
   "pygments_lexer": "ipython3",
   "version": "3.11.3"
  }
 },
 "nbformat": 4,
 "nbformat_minor": 2
}
