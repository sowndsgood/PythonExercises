{
 "cells": [
  {
   "cell_type": "markdown",
   "metadata": {},
   "source": [
    "# Exercise: Class and Objects\n",
    "\n",
    "Create a sample class named Employee with two attributes id and name\n",
    "employee :\n",
    "    id\n",
    "    name\n",
    "object initializes id and name dynamically for every Employee object created.\n",
    "\n",
    "emp = Employee(1, \"coder\")\n",
    "Use del property to first delete id attribute and then the entire object"
   ]
  },
  {
   "cell_type": "code",
   "execution_count": 3,
   "metadata": {},
   "outputs": [
    {
     "name": "stdout",
     "output_type": "stream",
     "text": [
      "Before ID Deletion:\n",
      "ID: 2\n",
      "Name: Tom\n",
      "After ID Deletion:\n",
      "Name: Tom\n",
      "After Object Deletion:\n"
     ]
    }
   ],
   "source": [
    "class Employee():\n",
    "    def __init__(self,id,name):\n",
    "        self.id = id\n",
    "        self.name = name\n",
    "\n",
    "emp = Employee(2,\"Tom\")\n",
    "\n",
    "print(\"Before ID Deletion:\")\n",
    "print(\"ID:\",emp.id)\n",
    "print(\"Name:\",emp.name)\n",
    "\n",
    "del emp.id\n",
    "\n",
    "print(\"After ID Deletion:\")\n",
    "# print(\"ID:\",emp.id)\n",
    "print(\"Name:\",emp.name)\n",
    "\n",
    "del emp    \n",
    "\n",
    "print(\"After Object Deletion:\")\n",
    "# print(\"ID:\",emp.id)\n",
    "# print(\"Name:\",emp.name)"
   ]
  }
 ],
 "metadata": {
  "kernelspec": {
   "display_name": "Python 3",
   "language": "python",
   "name": "python3"
  },
  "language_info": {
   "codemirror_mode": {
    "name": "ipython",
    "version": 3
   },
   "file_extension": ".py",
   "mimetype": "text/x-python",
   "name": "python",
   "nbconvert_exporter": "python",
   "pygments_lexer": "ipython3",
   "version": "3.11.3"
  }
 },
 "nbformat": 4,
 "nbformat_minor": 2
}
