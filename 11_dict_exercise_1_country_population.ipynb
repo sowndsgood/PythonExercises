{
 "cells": [
  {
   "cell_type": "markdown",
   "metadata": {},
   "source": [
    "# Exercise: Python Dict and Tuples\n",
    "\n",
    "1. We have following information on countries and their population (population is in crores),\n",
    "\n",
    "Country\tPopulation\n",
    "China\t143\n",
    "India\t136\n",
    "USA\t32\n",
    "Pakistan\t21\n",
    "Using above create a dictionary of countries and its population\n",
    "Write a program that asks user for three type of inputs,\n",
    "print: if user enter print then it should print all countries with their population in this format,\n",
    "china==>143\n",
    "india==>136\n",
    "usa==>32\n",
    "pakistan==>21\n",
    "add: if user input add then it should further ask for a country name to add. If country already exist in our dataset then it should print that it exist and do nothing. If it doesn't then it asks for population and add that new country/population in our dictionary and print it\n",
    "remove: when user inputs remove it should ask for a country to remove. If country exist in our dictionary then remove it and print new dictionary using format shown above in (a). Else print that country doesn't exist!\n",
    "query: on this again ask user for which country he or she wants to query. When user inputs that country it will print population of that country."
   ]
  },
  {
   "cell_type": "code",
   "execution_count": 13,
   "metadata": {},
   "outputs": [],
   "source": [
    "d={\n",
    "    \"China\":143,\n",
    "    \"India\":136,\n",
    "    \"USA\":32,\n",
    "    \"Pakistan\":21\n",
    "   }"
   ]
  },
  {
   "cell_type": "code",
   "execution_count": 15,
   "metadata": {},
   "outputs": [
    {
     "name": "stdout",
     "output_type": "stream",
     "text": [
      "143\n"
     ]
    }
   ],
   "source": [
    "user = input(\"Enter your task:\")\n",
    "if user==\"print\":\n",
    "    print(d)\n",
    "elif user==\"add\":\n",
    "    country=input(\"Enter a country to add:\")\n",
    "    if country in d:\n",
    "        print(\"Adready exist\")\n",
    "    else:\n",
    "        population=input(\"Enter population:\")\n",
    "        d[country]=population\n",
    "        print(d)\n",
    "elif user==\"remove\":\n",
    "    country=input(\"Enter the country to remove:\")\n",
    "    if country in d:\n",
    "        del d[country]\n",
    "        print(d)\n",
    "    else:\n",
    "        print(\"Country doesn't exist\")\n",
    "else:\n",
    "    country=input(\"Enter a country:\")\n",
    "    print(d[country])"
   ]
  }
 ],
 "metadata": {
  "kernelspec": {
   "display_name": "Python 3",
   "language": "python",
   "name": "python3"
  },
  "language_info": {
   "codemirror_mode": {
    "name": "ipython",
    "version": 3
   },
   "file_extension": ".py",
   "mimetype": "text/x-python",
   "name": "python",
   "nbconvert_exporter": "python",
   "pygments_lexer": "ipython3",
   "version": "3.11.3"
  }
 },
 "nbformat": 4,
 "nbformat_minor": 2
}
