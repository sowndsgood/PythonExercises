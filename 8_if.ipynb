{
 "cells": [
  {
   "cell_type": "markdown",
   "metadata": {},
   "source": [
    "# Exercise: Python If Condition\n",
    "\n",
    "1. Using following list of cities per country,\n",
    "india = [\"mumbai\", \"banglore\", \"chennai\", \"delhi\"]\n",
    "pakistan = [\"lahore\",\"karachi\",\"islamabad\"]\n",
    "bangladesh = [\"dhaka\", \"khulna\", \"rangpur\"]\n",
    "1.Write a program that asks user to enter a city name and it should tell which country the city belongs to\n",
    "2.Write a program that asks user to enter two cities and it tells you if they both are in same country or not. For example if I enter mumbai and chennai, it will print \"Both cities are in India\" but if I enter mumbai and dhaka it should print \"They don't belong to same country\"\n"
   ]
  },
  {
   "cell_type": "code",
   "execution_count": 6,
   "metadata": {},
   "outputs": [],
   "source": [
    "india = [\"mumbai\", \"banglore\", \"chennai\", \"delhi\"]\n",
    "pakistan = [\"lahore\",\"karachi\",\"islamabad\"]\n",
    "bangladesh = [\"dhaka\", \"khulna\", \"rangpur\"]"
   ]
  },
  {
   "cell_type": "code",
   "execution_count": 7,
   "metadata": {},
   "outputs": [
    {
     "name": "stdout",
     "output_type": "stream",
     "text": [
      "No info\n"
     ]
    }
   ],
   "source": [
    "city = input(\"Enter a city:\")\n",
    "if city in india:\n",
    "    print(\"India\")\n",
    "elif city in pakistan:\n",
    "    print(\"Pakistan\")\n",
    "elif city in bangladesh:\n",
    "    print(\"Bangladesh\")\n",
    "else:\n",
    "    print(\"No info\")"
   ]
  },
  {
   "cell_type": "code",
   "execution_count": 8,
   "metadata": {},
   "outputs": [
    {
     "name": "stdout",
     "output_type": "stream",
     "text": [
      "They don't belong to same country\n"
     ]
    }
   ],
   "source": [
    "city1 = input(\"Enter city 1:\")\n",
    "city2 = input(\"Enter city 2:\")\n",
    "if city1 in india and city2 in india:\n",
    "    print(\"Both cities are in India\")\n",
    "elif city1 in pakistan and city2 in pakistan:\n",
    "    print(\"Both cities are in Pakistan\")\n",
    "elif city1 in bangladesh and city2 in bangladesh:\n",
    "    print(\"Both cities are in Bangladesh\")\n",
    "else:\n",
    "    print( \"They don't belong to same country\")"
   ]
  },
  {
   "cell_type": "markdown",
   "metadata": {},
   "source": [
    "\n",
    "2. Write a python program that can tell you if your sugar is normal or not. Normal fasting level sugar range is 80 to 100.\n",
    "1.Ask user to enter his fasting sugar level\n",
    "2.If it is below 80 to 100 range then print that sugar is low\n",
    "3.If it is above 100 then print that it is high otherwise print that it is normal"
   ]
  },
  {
   "cell_type": "code",
   "execution_count": 10,
   "metadata": {},
   "outputs": [
    {
     "name": "stdout",
     "output_type": "stream",
     "text": [
      "Below\n"
     ]
    }
   ],
   "source": [
    "sugar = int(input(\"Enter sugar level:\"))\n",
    "if sugar>=80 and sugar<=100:\n",
    "    print(\"Normal\")\n",
    "elif sugar<80:\n",
    "    print(\"Below\")\n",
    "else:\n",
    "    print(\"Above\")"
   ]
  }
 ],
 "metadata": {
  "kernelspec": {
   "display_name": "Python 3",
   "language": "python",
   "name": "python3"
  },
  "language_info": {
   "codemirror_mode": {
    "name": "ipython",
    "version": 3
   },
   "file_extension": ".py",
   "mimetype": "text/x-python",
   "name": "python",
   "nbconvert_exporter": "python",
   "pygments_lexer": "ipython3",
   "version": "3.11.3"
  }
 },
 "nbformat": 4,
 "nbformat_minor": 2
}
